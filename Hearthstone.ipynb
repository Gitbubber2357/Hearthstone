{
 "cells": [
  {
   "cell_type": "markdown",
   "metadata": {},
   "source": [
    "繼承"
   ]
  },
  {
   "cell_type": "code",
   "execution_count": 279,
   "metadata": {},
   "outputs": [],
   "source": [
    "class card:\n",
    "    def __init__(self, mana, attack, health, buff_attack = 0, buff_health = 0, buff_poisonous = False,\n",
    "                 buff_shield = False, buff_windfury = False, buff_taunt = False, buff_deathrattle = False,\n",
    "                 poisonous = False, shield = False, windfury = False, taunt = False, deathrattle = False, others = False):\n",
    "        self.mana = mana\n",
    "        self.attack = attack\n",
    "        self.health = health\n",
    "        self.live = \"alive\"\n",
    "        \n",
    "        self.buff_attack = buff_attack\n",
    "        self.buff_health = buff_health\n",
    "        \n",
    "        self.buff_poisonous = buff_poisonous\n",
    "        self.buff_shield = buff_shield\n",
    "        self.buff_windfury = buff_windfury\n",
    "        self.buff_taunt = buff_taunt\n",
    "        self.buff_deathrattle = buff_deathrattle\n",
    "        \n",
    "        self.poisonous = poisonous\n",
    "        if self.poisonous != False:\n",
    "            self.attack += np.infty\n",
    "        self.shield = shield\n",
    "        self.windfury = windfury\n",
    "        self.taunt = taunt\n",
    "        self.deathrattle = deathrattle\n",
    "        \n",
    "        self.others = others"
   ]
  },
  {
   "cell_type": "code",
   "execution_count": 280,
   "metadata": {},
   "outputs": [],
   "source": [
    "asd = card(mana = 1, attack = 3, health = 5, buff_attack = 1, buff_health = 1)\n",
    "zxc = card(mana = 1, attack = 2, health = 2, shield = True, poisonous = True)"
   ]
  },
  {
   "cell_type": "code",
   "execution_count": 281,
   "metadata": {},
   "outputs": [
    {
     "data": {
      "text/plain": [
       "(1, 3, 5, 'alive', 1, 1)"
      ]
     },
     "execution_count": 281,
     "metadata": {},
     "output_type": "execute_result"
    }
   ],
   "source": [
    "asd.mana, asd.attack, asd.health, asd.live, asd.buff_attack, asd.buff_health"
   ]
  },
  {
   "cell_type": "code",
   "execution_count": 282,
   "metadata": {
    "scrolled": true
   },
   "outputs": [
    {
     "data": {
      "text/plain": [
       "(1, inf, 2, 'alive')"
      ]
     },
     "execution_count": 282,
     "metadata": {},
     "output_type": "execute_result"
    }
   ],
   "source": [
    "zxc.mana, zxc.attack, zxc.health, zxc.live"
   ]
  },
  {
   "cell_type": "code",
   "execution_count": 283,
   "metadata": {},
   "outputs": [],
   "source": [
    "def Attack(Attacker, Attacked):\n",
    "    if Attacker.shield != None:\n",
    "        pass\n",
    "    else:\n",
    "        Attacker.health -= Attacked.attack\n",
    "        if Attacker.health < 0:\n",
    "            Attacker.live = \"dead\"\n",
    "    \n",
    "    if Attacked.shield != None:\n",
    "        pass\n",
    "    else:\n",
    "        Attacked.health -= Attacker.attack\n",
    "        if Attacked.health < 0:\n",
    "            Attacked.live = \"dead\"\n",
    "    \n",
    "    return Attacker, Attacked"
   ]
  },
  {
   "cell_type": "code",
   "execution_count": 284,
   "metadata": {},
   "outputs": [
    {
     "data": {
      "text/plain": [
       "(<__main__.card at 0x5967290>, <__main__.card at 0x5967b30>)"
      ]
     },
     "execution_count": 284,
     "metadata": {},
     "output_type": "execute_result"
    }
   ],
   "source": [
    "Attack(asd, zxc)"
   ]
  },
  {
   "cell_type": "code",
   "execution_count": 285,
   "metadata": {},
   "outputs": [
    {
     "data": {
      "text/plain": [
       "(1, 3, -inf, 'dead', 1, 1)"
      ]
     },
     "execution_count": 285,
     "metadata": {},
     "output_type": "execute_result"
    }
   ],
   "source": [
    "asd.mana, asd.attack, asd.health, asd.live, asd.buff_attack, asd.buff_health"
   ]
  },
  {
   "cell_type": "code",
   "execution_count": 287,
   "metadata": {},
   "outputs": [
    {
     "data": {
      "text/plain": [
       "(1, inf, 2, 'alive', True)"
      ]
     },
     "execution_count": 287,
     "metadata": {},
     "output_type": "execute_result"
    }
   ],
   "source": [
    "zxc.mana, zxc.attack, zxc.health, zxc.live, zxc.shield"
   ]
  },
  {
   "cell_type": "code",
   "execution_count": null,
   "metadata": {},
   "outputs": [],
   "source": [
    "print(\"\")"
   ]
  }
 ],
 "metadata": {
  "kernelspec": {
   "display_name": "Python 3",
   "language": "python",
   "name": "python3"
  },
  "language_info": {
   "codemirror_mode": {
    "name": "ipython",
    "version": 3
   },
   "file_extension": ".py",
   "mimetype": "text/x-python",
   "name": "python",
   "nbconvert_exporter": "python",
   "pygments_lexer": "ipython3",
   "version": "3.7.6"
  }
 },
 "nbformat": 4,
 "nbformat_minor": 4
}
