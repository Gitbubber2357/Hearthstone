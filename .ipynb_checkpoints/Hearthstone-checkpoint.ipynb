{
 "cells": [
  {
   "cell_type": "markdown",
   "metadata": {},
   "source": [
    "繼承"
   ]
  },
  {
   "cell_type": "code",
   "execution_count": 291,
   "metadata": {},
   "outputs": [],
   "source": [
    "class card:\n",
    "    def __init__(self, rank, attack, health):\n",
    "        self.rank = rank\n",
    "        self.attack = attack\n",
    "        self.health = health\n",
    "        \n",
    "        if self.health > 0:\n",
    "            self.live = True\n",
    "        else:\n",
    "            self.live = False"
   ]
  },
  {
   "cell_type": "code",
   "execution_count": 330,
   "metadata": {},
   "outputs": [],
   "source": [
    "class battlecry(card):\n",
    "    def __init__(self, rank, attack, health, buff_attack = 0, buff_health = 0, buff_poisonous = False,\n",
    "                 buff_shield = False, buff_windfury = False, buff_taunt = False, buff_deathrattle = False):\n",
    "        super().__init__(rank, attack, health)\n",
    "        self.buff_attack = buff_attack\n",
    "        self.buff_health = buff_health\n",
    "\n",
    "        self.buff_poisonous = buff_poisonous\n",
    "        self.buff_shield = buff_shield\n",
    "        self.buff_windfury = buff_windfury\n",
    "        self.buff_taunt = buff_taunt\n",
    "        self.buff_deathrattle = buff_deathrattle"
   ]
  },
  {
   "cell_type": "code",
   "execution_count": 331,
   "metadata": {},
   "outputs": [],
   "source": [
    "class deathrattle(card):\n",
    "    def __init__(self, rank, attack, health, buff_attack = 0, buff_health = 0, buff_poisonous = False,\n",
    "                 buff_shield = False, buff_windfury = False, buff_taunt = False, buff_deathrattle = False):\n",
    "        super().__init__(rank, attack, health)\n",
    "        self.buff_attack = buff_attack\n",
    "        self.buff_health = buff_health\n",
    "\n",
    "        self.buff_poisonous = buff_poisonous\n",
    "        self.buff_shield = buff_shield\n",
    "        self.buff_windfury = buff_windfury\n",
    "        self.buff_taunt = buff_taunt\n",
    "        self.buff_deathrattle = buff_deathrattle"
   ]
  },
  {
   "cell_type": "code",
   "execution_count": 288,
   "metadata": {},
   "outputs": [],
   "source": [
    "class card_old:\n",
    "    def __init__(self, mana, attack, health, buff_attack = 0, buff_health = 0, buff_poisonous = False,\n",
    "                 buff_shield = False, buff_windfury = False, buff_taunt = False, buff_deathrattle = False,\n",
    "                 poisonous = False, shield = False, windfury = False, taunt = False, deathrattle = False, others = False):\n",
    "        self.mana = mana\n",
    "        self.attack = attack\n",
    "        self.health = health\n",
    "        self.live = \"alive\"\n",
    "        \n",
    "        self.buff_attack = buff_attack\n",
    "        self.buff_health = buff_health\n",
    "        \n",
    "        self.buff_poisonous = buff_poisonous\n",
    "        self.buff_shield = buff_shield\n",
    "        self.buff_windfury = buff_windfury\n",
    "        self.buff_taunt = buff_taunt\n",
    "        self.buff_deathrattle = buff_deathrattle\n",
    "        \n",
    "        self.poisonous = poisonous\n",
    "        if self.poisonous != False:\n",
    "            self.attack += np.infty\n",
    "        self.shield = shield\n",
    "        self.windfury = windfury\n",
    "        self.taunt = taunt\n",
    "        self.deathrattle = deathrattle\n",
    "        \n",
    "        self.others = others"
   ]
  },
  {
   "cell_type": "code",
   "execution_count": 327,
   "metadata": {},
   "outputs": [],
   "source": [
    "asd = card(rank = 1, attack = 3, health = 5)\n",
    "zxc = card(rank = 1, attack = 2, health = 2)"
   ]
  },
  {
   "cell_type": "code",
   "execution_count": 329,
   "metadata": {},
   "outputs": [],
   "source": [
    "asd = battlecry(rank = 1, attack = 3, health = 5, buff_poisonous = True)"
   ]
  },
  {
   "cell_type": "code",
   "execution_count": 323,
   "metadata": {},
   "outputs": [
    {
     "data": {
      "text/plain": [
       "(1, 3, 5, 'alive')"
      ]
     },
     "execution_count": 323,
     "metadata": {},
     "output_type": "execute_result"
    }
   ],
   "source": [
    "asd.rank, asd.attack, asd.health, asd.live"
   ]
  },
  {
   "cell_type": "code",
   "execution_count": 282,
   "metadata": {
    "scrolled": true
   },
   "outputs": [
    {
     "data": {
      "text/plain": [
       "(1, inf, 2, 'alive')"
      ]
     },
     "execution_count": 282,
     "metadata": {},
     "output_type": "execute_result"
    }
   ],
   "source": [
    "zxc.mana, zxc.attack, zxc.health, zxc.live"
   ]
  },
  {
   "cell_type": "code",
   "execution_count": 283,
   "metadata": {},
   "outputs": [],
   "source": [
    "def Attack(Attacker, Attacked):\n",
    "    if Attacker.shield != None:\n",
    "        pass\n",
    "    else:\n",
    "        Attacker.health -= Attacked.attack\n",
    "        if Attacker.health < 0:\n",
    "            Attacker.live = \"dead\"\n",
    "    \n",
    "    if Attacked.shield != None:\n",
    "        pass\n",
    "    else:\n",
    "        Attacked.health -= Attacker.attack\n",
    "        if Attacked.health < 0:\n",
    "            Attacked.live = \"dead\"\n",
    "    \n",
    "    return Attacker, Attacked"
   ]
  },
  {
   "cell_type": "code",
   "execution_count": 284,
   "metadata": {},
   "outputs": [
    {
     "data": {
      "text/plain": [
       "(<__main__.card at 0x5967290>, <__main__.card at 0x5967b30>)"
      ]
     },
     "execution_count": 284,
     "metadata": {},
     "output_type": "execute_result"
    }
   ],
   "source": [
    "Attack(asd, zxc)"
   ]
  },
  {
   "cell_type": "code",
   "execution_count": 285,
   "metadata": {},
   "outputs": [
    {
     "data": {
      "text/plain": [
       "(1, 3, -inf, 'dead', 1, 1)"
      ]
     },
     "execution_count": 285,
     "metadata": {},
     "output_type": "execute_result"
    }
   ],
   "source": [
    "asd.mana, asd.attack, asd.health, asd.live, asd.buff_attack, asd.buff_health"
   ]
  },
  {
   "cell_type": "code",
   "execution_count": 287,
   "metadata": {},
   "outputs": [
    {
     "data": {
      "text/plain": [
       "(1, inf, 2, 'alive', True)"
      ]
     },
     "execution_count": 287,
     "metadata": {},
     "output_type": "execute_result"
    }
   ],
   "source": [
    "zxc.mana, zxc.attack, zxc.health, zxc.live, zxc.shield"
   ]
  },
  {
   "cell_type": "code",
   "execution_count": null,
   "metadata": {},
   "outputs": [],
   "source": [
    "print(\"\")"
   ]
  },
  {
   "cell_type": "code",
   "execution_count": null,
   "metadata": {},
   "outputs": [],
   "source": []
  },
  {
   "cell_type": "code",
   "execution_count": null,
   "metadata": {},
   "outputs": [],
   "source": []
  },
  {
   "cell_type": "code",
   "execution_count": null,
   "metadata": {},
   "outputs": [],
   "source": []
  },
  {
   "cell_type": "code",
   "execution_count": null,
   "metadata": {},
   "outputs": [],
   "source": [
    "def print_card(card):\n",
    "    card.rank"
   ]
  },
  {
   "cell_type": "code",
   "execution_count": 357,
   "metadata": {},
   "outputs": [],
   "source": [
    "def numb_1():\n",
    "    print(\"o --------- o\")\n",
    "    print(\"|     a     |\")\n",
    "    print(\"|   a a     |\")\n",
    "    print(\"|     a     |\")\n",
    "    print(\"|     a     |\")\n",
    "    print(\"|  a a a a  |\")\n",
    "    print(\"o --------- o\")\n",
    "\n",
    "def numb_2():\n",
    "    print(\"o --------- o\")\n",
    "    print(\"|  a a a a  |\")\n",
    "    print(\"|        a  |\")\n",
    "    print(\"|  a a a a  |\")\n",
    "    print(\"|  a        |\")\n",
    "    print(\"|  a a a a  |\")\n",
    "    print(\"o --------- o\")\n",
    "    \n",
    "def numb_3():\n",
    "    print(\"o --------- o\")\n",
    "    print(\"|  a a a a  |\")\n",
    "    print(\"|        a  |\")\n",
    "    print(\"|  a a a a  |\")\n",
    "    print(\"|        a  |\")\n",
    "    print(\"|  a a a a  |\")\n",
    "    print(\"o --------- o\")\n",
    "    \n",
    "def numb_4():\n",
    "    print(\"o --------- o\")\n",
    "    print(\"|     aa    |\")\n",
    "    print(\"|    a a    |\")\n",
    "    print(\"|   a  a    |\")\n",
    "    print(\"|  a a a a  |\")\n",
    "    print(\"|      a    |\")\n",
    "    print(\"o --------- o\")\n",
    "    \n",
    "def numb_5():\n",
    "    print(\"o --------- o\")\n",
    "    print(\"|  a a a a  |\")\n",
    "    print(\"|  a        |\")\n",
    "    print(\"|  a a a a  |\")\n",
    "    print(\"|        a  |\")\n",
    "    print(\"|  a a a a  |\")\n",
    "    print(\"o --------- o\")\n",
    "    \n",
    "def numb_6():\n",
    "    print(\"o --------- o\")\n",
    "    print(\"|  a a a a  |\")\n",
    "    print(\"|  a        |\")\n",
    "    print(\"|  a a a a  |\")\n",
    "    print(\"|  a     a  |\")\n",
    "    print(\"|  a a a a  |\")\n",
    "    print(\"o --------- o\")\n",
    "    \n",
    "def numb_7():\n",
    "    print(\"o --------- o\")\n",
    "    print(\"|  a a a a  |\")\n",
    "    print(\"|  a     a  |\")\n",
    "    print(\"|  a     a  |\")\n",
    "    print(\"|        a  |\")\n",
    "    print(\"|        a  |\")\n",
    "    print(\"o --------- o\")\n",
    "    \n",
    "def numb_8():\n",
    "    print(\"o --------- o\")\n",
    "    print(\"|  a a a a  |\")\n",
    "    print(\"|  a     a  |\")\n",
    "    print(\"|  a a a a  |\")\n",
    "    print(\"|  a     a  |\")\n",
    "    print(\"|  a a a a  |\")\n",
    "    print(\"o --------- o\")\n",
    "    \n",
    "def numb_9():\n",
    "    print(\"o --------- o\")\n",
    "    print(\"|  a a a a  |\")\n",
    "    print(\"|  a     a  |\")\n",
    "    print(\"|  a a a a  |\")\n",
    "    print(\"|        a  |\")\n",
    "    print(\"|  a a a a  |\")\n",
    "    print(\"o --------- o\")"
   ]
  },
  {
   "cell_type": "code",
   "execution_count": 365,
   "metadata": {},
   "outputs": [
    {
     "name": "stdout",
     "output_type": "stream",
     "text": [
      "o --------- o\n",
      "|     a     |\n",
      "|   a a     |\n",
      "|     a     |\n",
      "|     a     |\n",
      "|  a a a a  |\n",
      "o --------- o\n",
      "o --------- o\n",
      "|  a a a a  |\n",
      "|        a  |\n",
      "|  a a a a  |\n",
      "|  a        |\n",
      "|  a a a a  |\n",
      "o --------- o\n",
      "o --------- o\n",
      "|  a a a a  |\n",
      "|        a  |\n",
      "|  a a a a  |\n",
      "|        a  |\n",
      "|  a a a a  |\n",
      "o --------- o\n",
      "o --------- o\n",
      "|     aa    |\n",
      "|    a a    |\n",
      "|   a  a    |\n",
      "|  a a a a  |\n",
      "|      a    |\n",
      "o --------- o\n",
      "o --------- o\n",
      "|  a a a a  |\n",
      "|  a        |\n",
      "|  a a a a  |\n",
      "|        a  |\n",
      "|  a a a a  |\n",
      "o --------- o\n",
      "o --------- o\n",
      "|  a a a a  |\n",
      "|  a        |\n",
      "|  a a a a  |\n",
      "|  a     a  |\n",
      "|  a a a a  |\n",
      "o --------- o\n",
      "o --------- o\n",
      "|  a a a a  |\n",
      "|  a     a  |\n",
      "|  a     a  |\n",
      "|        a  |\n",
      "|        a  |\n",
      "o --------- o\n",
      "o --------- o\n",
      "|  a a a a  |\n",
      "|  a     a  |\n",
      "|  a a a a  |\n",
      "|  a     a  |\n",
      "|  a a a a  |\n",
      "o --------- o\n",
      "o --------- o\n",
      "|  a a a a  |\n",
      "|  a     a  |\n",
      "|  a a a a  |\n",
      "|        a  |\n",
      "|  a a a a  |\n",
      "o --------- o\n"
     ]
    },
    {
     "data": {
      "text/plain": [
       "(None, None, None, None, None, None, None, None, None)"
      ]
     },
     "execution_count": 365,
     "metadata": {},
     "output_type": "execute_result"
    }
   ],
   "source": [
    "numb_1(), numb_2(), numb_3(), numb_4(), numb_5(), numb_6(), numb_7(), numb_8(), numb_9()"
   ]
  },
  {
   "cell_type": "code",
   "execution_count": 408,
   "metadata": {},
   "outputs": [
    {
     "name": "stdout",
     "output_type": "stream",
     "text": [
      "╔═══╦══════════════════════╗\n",
      "║ 6 ║ 『祕法巨龍』卡雷苟斯 ║\n",
      "╠═══╩══════════════════════╣\n",
      "║   劇毒：✓    聖盾：✓     ║\n",
      "║   風怒：✗    嘲諷：✗     ║\n",
      "║                          ║\n",
      "║                          ║\n",
      "║                          ║\n",
      "║                          ║\n",
      "╠═════╦══════════════╦═════╣\n",
      "║ 100 ║              ║ 100 ║\n",
      "╚═════╩══════════════╩═════╝\n"
     ]
    }
   ],
   "source": [
    "print(\"╔═══╦══════════════════════╗\")\n",
    "print(\"║ %d ║ %s ║\" %(6,\"『祕法巨龍』卡雷苟斯\"))\n",
    "print(\"╠═══╩══════════════════════╣\")\n",
    "print(\"║   劇毒：✓    聖盾：✓     ║\")\n",
    "print(\"║   風怒：✗    嘲諷：✗     ║\")\n",
    "print(\"║                          ║\")\n",
    "print(\"║                          ║\")\n",
    "print(\"║                          ║\")\n",
    "print(\"║                          ║\")\n",
    "print(\"╠═════╦              ╦═════╣\")\n",
    "print(\"║ %d ║              ║ %d ║\" %(100,100))\n",
    "print(\"╚═════╩══════════════╩═════╝\")"
   ]
  },
  {
   "cell_type": "code",
   "execution_count": null,
   "metadata": {},
   "outputs": [],
   "source": []
  }
 ],
 "metadata": {
  "kernelspec": {
   "display_name": "Python 3",
   "language": "python",
   "name": "python3"
  },
  "language_info": {
   "codemirror_mode": {
    "name": "ipython",
    "version": 3
   },
   "file_extension": ".py",
   "mimetype": "text/x-python",
   "name": "python",
   "nbconvert_exporter": "python",
   "pygments_lexer": "ipython3",
   "version": "3.7.6"
  }
 },
 "nbformat": 4,
 "nbformat_minor": 4
}
