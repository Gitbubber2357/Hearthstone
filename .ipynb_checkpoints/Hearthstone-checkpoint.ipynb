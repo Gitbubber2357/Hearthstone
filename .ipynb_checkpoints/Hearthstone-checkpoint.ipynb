{
 "cells": [
  {
   "cell_type": "code",
   "execution_count": 233,
   "metadata": {},
   "outputs": [],
   "source": [
    "class card:\n",
    "    def __init__(self, mana, attack, health, buff_attack = 0, buff_health = 0, buff_poisonous = None,\n",
    "                 buff_shield = None, buff_windfury = None, buff_taunt = None, buff_deathrattle = None,\n",
    "                 poisonous = None, shield = None, windfury = None, taunt = None, deathrattle = None, others = None):\n",
    "        self.mana = mana\n",
    "        self.attack = attack\n",
    "        self.health = health\n",
    "        self.live = \"alive\"\n",
    "        \n",
    "        self.buff_attack = buff_attack\n",
    "        self.buff_health = buff_health\n",
    "        \n",
    "        self.buff_poisonous = buff_poisonous\n",
    "        self.buff_shield = buff_shield\n",
    "        self.buff_windfury = buff_windfury\n",
    "        self.buff_taunt = buff_taunt\n",
    "        self.buff_deathrattle = buff_deathrattle\n",
    "        \n",
    "        self.poisonous = poisonous\n",
    "        self.shield = shield\n",
    "        self.windfury = windfury\n",
    "        self.taunt = taunt\n",
    "        self.deathrattle = deathrattle\n",
    "        \n",
    "        self.others = others"
   ]
  },
  {
   "cell_type": "code",
   "execution_count": 242,
   "metadata": {},
   "outputs": [],
   "source": [
    "asd = card(mana = 1, attack = 3, health = 5, buff_attack = 1, buff_health = 1)\n",
    "zxc = card(mana = 1, attack = 2, health = 2, shield = not None)"
   ]
  },
  {
   "cell_type": "code",
   "execution_count": 243,
   "metadata": {},
   "outputs": [
    {
     "data": {
      "text/plain": [
       "(1, 3, 5, 'alive', 1, 1)"
      ]
     },
     "execution_count": 243,
     "metadata": {},
     "output_type": "execute_result"
    }
   ],
   "source": [
    "asd.mana, asd.attack, asd.health, asd.live, asd.buff_A, asd.buff_H"
   ]
  },
  {
   "cell_type": "code",
   "execution_count": 244,
   "metadata": {},
   "outputs": [
    {
     "data": {
      "text/plain": [
       "(1, 2, 2, 'alive')"
      ]
     },
     "execution_count": 244,
     "metadata": {},
     "output_type": "execute_result"
    }
   ],
   "source": [
    "zxc.mana, zxc.attack, zxc.health, zxc.live"
   ]
  },
  {
   "cell_type": "code",
   "execution_count": 245,
   "metadata": {},
   "outputs": [],
   "source": [
    "def Attack(Attacker, Attacked):\n",
    "    if Attacker.shield != None:\n",
    "        pass\n",
    "    else:\n",
    "        Attacker.health -= Attacked.attack\n",
    "        if Attacker.health < 0:\n",
    "            Attacker.live = \"dead\"\n",
    "    \n",
    "    if Attacked.shield != None:\n",
    "        pass\n",
    "    else:\n",
    "        Attacked.health -= Attacker.attack\n",
    "        if Attacked.health < 0:\n",
    "            Attacked.live = \"dead\"\n",
    "    \n",
    "    return Attacker, Attacked"
   ]
  },
  {
   "cell_type": "code",
   "execution_count": 246,
   "metadata": {},
   "outputs": [
    {
     "data": {
      "text/plain": [
       "(<__main__.card at 0x14f3290>, <__main__.card at 0x14f3cf0>)"
      ]
     },
     "execution_count": 246,
     "metadata": {},
     "output_type": "execute_result"
    }
   ],
   "source": [
    "Attack(asd, zxc)"
   ]
  },
  {
   "cell_type": "code",
   "execution_count": 247,
   "metadata": {},
   "outputs": [
    {
     "data": {
      "text/plain": [
       "(1, 3, 3, 'alive', 1, 1)"
      ]
     },
     "execution_count": 247,
     "metadata": {},
     "output_type": "execute_result"
    }
   ],
   "source": [
    "asd.mana, asd.attack, asd.health, asd.live, asd.buff_A, asd.buff_H"
   ]
  },
  {
   "cell_type": "code",
   "execution_count": 248,
   "metadata": {},
   "outputs": [
    {
     "data": {
      "text/plain": [
       "(1, 2, 2, 'alive')"
      ]
     },
     "execution_count": 248,
     "metadata": {},
     "output_type": "execute_result"
    }
   ],
   "source": [
    "zxc.mana, zxc.attack, zxc.health, zxc.live"
   ]
  },
  {
   "cell_type": "code",
   "execution_count": null,
   "metadata": {},
   "outputs": [],
   "source": []
  }
 ],
 "metadata": {
  "kernelspec": {
   "display_name": "Python 3",
   "language": "python",
   "name": "python3"
  },
  "language_info": {
   "codemirror_mode": {
    "name": "ipython",
    "version": 3
   },
   "file_extension": ".py",
   "mimetype": "text/x-python",
   "name": "python",
   "nbconvert_exporter": "python",
   "pygments_lexer": "ipython3",
   "version": "3.7.6"
  }
 },
 "nbformat": 4,
 "nbformat_minor": 4
}
