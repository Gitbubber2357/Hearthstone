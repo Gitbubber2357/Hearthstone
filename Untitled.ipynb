{
 "cells": [
  {
   "cell_type": "code",
   "execution_count": 2,
   "metadata": {},
   "outputs": [],
   "source": [
    "import numpy as np"
   ]
  },
  {
   "cell_type": "code",
   "execution_count": 76,
   "metadata": {},
   "outputs": [],
   "source": [
    "class Card:\n",
    "    def __init__(self, name, rank, attack, health):\n",
    "        self.name = name\n",
    "        self.rank = rank\n",
    "        self.attack = attack\n",
    "        self.health = health\n",
    "        \n",
    "        if self.health > 0:\n",
    "            self.is_live = True\n",
    "        else:\n",
    "            self.is_live = False\n",
    "        \n",
    "    def accept_damage(self, attack):\n",
    "        self.health -= attack\n",
    "        \n",
    "        if self.health > 0:\n",
    "            self.is_live = True\n",
    "        else:\n",
    "            self.is_live = False"
   ]
  },
  {
   "cell_type": "code",
   "execution_count": 77,
   "metadata": {},
   "outputs": [],
   "source": [
    "class BuffedCard(Card):\n",
    "    def __init__(self, name, rank, attack, health, poisonous = False, shield = False, windfury = False, taunt = False):\n",
    "        super().__init__(name, rank, attack, health)\n",
    "        self.is_poisonous = poisonous\n",
    "        self.is_shield = shield\n",
    "        self.is_windfury = windfury\n",
    "        self.is_taunt = taunt"
   ]
  },
  {
   "cell_type": "code",
   "execution_count": 75,
   "metadata": {
    "scrolled": false
   },
   "outputs": [
    {
     "data": {
      "text/plain": [
       "True"
      ]
     },
     "execution_count": 75,
     "metadata": {},
     "output_type": "execute_result"
    }
   ],
   "source": [
    "card11.is_live"
   ]
  },
  {
   "cell_type": "code",
   "execution_count": 78,
   "metadata": {},
   "outputs": [],
   "source": [
    "card11 = BuffedCard(\"第一張卡inA\", 1, np.random.randint(1,6), np.random.randint(1,6), poisonous = True)\n",
    "card12 = BuffedCard(\"第二張卡inA\", 1, np.random.randint(1,6), np.random.randint(1,6), shield = True)\n",
    "card13 = BuffedCard(\"第三張卡inA\", 1, np.random.randint(1,6), np.random.randint(1,6), windfury = True)\n",
    "card14 = BuffedCard(\"第四張卡inA\", 1, np.random.randint(1,6), np.random.randint(1,6), taunt = True)\n",
    "card15 = BuffedCard(\"第五張卡inA\", 1, np.random.randint(1,6), np.random.randint(1,6))\n",
    "card21 = BuffedCard(\"第一張卡inB\", 1, np.random.randint(1,6), np.random.randint(1,6))\n",
    "card22 = BuffedCard(\"第二張卡inB\", 1, np.random.randint(1,6), np.random.randint(1,6), windfury = True)\n",
    "card23 = BuffedCard(\"第三張卡inB\", 1, np.random.randint(1,6), np.random.randint(1,6), taunt = True)\n",
    "card24 = BuffedCard(\"第四張卡inB\", 1, np.random.randint(1,6), np.random.randint(1,6), poisonous = True)\n",
    "card25 = BuffedCard(\"第五張卡inB\", 1, np.random.randint(1,6), np.random.randint(1,6), shield = True)"
   ]
  },
  {
   "cell_type": "code",
   "execution_count": null,
   "metadata": {},
   "outputs": [],
   "source": []
  },
  {
   "cell_type": "code",
   "execution_count": 79,
   "metadata": {},
   "outputs": [],
   "source": [
    "def attack(table1_card, table2_card):\n",
    "    if table1_card.is_shield == True:\n",
    "        table1_card.is_shoeld = False\n",
    "    elif table2_card.is_poisonous == True:\n",
    "        table1_card.accept_damage(table1_card.health) \n",
    "    else:\n",
    "        table1_card.accept_damage(table2_card.attack)\n",
    "\n",
    "    if table2_card.is_shield == True:\n",
    "        table2_card.is_shield = False\n",
    "    elif table1_card.is_poisonous == True:\n",
    "        table2_card.accept_damage(table2_card.health)\n",
    "    else:\n",
    "        table2_card.accept_damage(table1_card.attack)"
   ]
  },
  {
   "cell_type": "code",
   "execution_count": 86,
   "metadata": {},
   "outputs": [],
   "source": [
    "class Table:\n",
    "    def __init__(self, *cards):\n",
    "        self.cards = cards\n",
    "    \n",
    "    def change(self, site_A, site_B):\n",
    "        self.cards[site_A], self.card[site_B] =  self.cards[site_B], self.card[site_A]\n",
    "        \n",
    "    def is_live_counter(self):\n",
    "        x = 0\n",
    "        for card in self.cards:\n",
    "            x += card.is_live\n",
    "        return x\n",
    "\n",
    "    def one_round(self, op_table):\n",
    "        attacker_index_self = attacker_index_op = -1\n",
    "        initial_live_self = int(self.is_live_counter())\n",
    "        initial_live_op = int(op_table.is_live_counter())\n",
    "        \n",
    "        while self.is_live_counter() != 0 and op_table.is_live_counter() != 0:\n",
    "            attacker_index_self += 1\n",
    "            attacker_index_self %= initial_live_self\n",
    "            print(1)\n",
    "\n",
    "            while not self.cards[attacker1].is_live:\n",
    "                attacker1 += 1\n",
    "                attacker1 %= initial_live_self\n",
    "                print(2)\n",
    "\n",
    "            random_int = np.random.randint(0,initial_live_op)\n",
    "\n",
    "            while not op_table.cards[random_int].is_live:\n",
    "                random_int += 1\n",
    "                random_int %= initial_live_op\n",
    "                print(3)\n",
    "\n",
    "            attack(self.cards[attacker1], table2.cards[random_int])\n",
    "\n",
    "            if self.is_live_counter() != 0 and op_table.is_live_counter() != 0:\n",
    "                attacker2 += 1\n",
    "                attacker2 %= initial_live_op\n",
    "                print(4)\n",
    "\n",
    "                while not op_table.cards[attacker2].is_live:\n",
    "                    attacker2 += 1\n",
    "                    attacker2 %= initial_live_op\n",
    "                    print(5)\n",
    "\n",
    "                random_int = np.random.randint(0,initial_live_self)\n",
    "\n",
    "                while not self.cards[random_int].is_live:\n",
    "                    random_int += 1\n",
    "                    random_int %= initial_live_self\n",
    "                    print(6)\n",
    "\n",
    "                attack(op_table.cards[attacker2], self.cards[random_int])"
   ]
  },
  {
   "cell_type": "code",
   "execution_count": 87,
   "metadata": {},
   "outputs": [],
   "source": [
    "table1 = Table(card11, card12, card13, card14)\n",
    "table2 = Table(card21, card25)"
   ]
  },
  {
   "cell_type": "code",
   "execution_count": 88,
   "metadata": {},
   "outputs": [
    {
     "name": "stdout",
     "output_type": "stream",
     "text": [
      "1\n"
     ]
    }
   ],
   "source": [
    "table1.one_round(table2)"
   ]
  },
  {
   "cell_type": "code",
   "execution_count": 90,
   "metadata": {
    "scrolled": true
   },
   "outputs": [
    {
     "name": "stdout",
     "output_type": "stream",
     "text": [
      "-2\n",
      "1\n",
      "5\n",
      "4\n",
      "=================\n",
      "0\n",
      "0\n"
     ]
    }
   ],
   "source": [
    "for card in table1.cards:\n",
    "    print(card.health)\n",
    "    \n",
    "print('=================')\n",
    "    \n",
    "for card in table2.cards:\n",
    "    print(card.health)"
   ]
  },
  {
   "cell_type": "code",
   "execution_count": 59,
   "metadata": {},
   "outputs": [],
   "source": [
    "def taunt_counter(table1):\n",
    "    x = 0\n",
    "    for card in table1.table:\n",
    "        x += card.taunt\n",
    "    return x"
   ]
  },
  {
   "cell_type": "code",
   "execution_count": 60,
   "metadata": {},
   "outputs": [
    {
     "data": {
      "text/plain": [
       "1"
      ]
     },
     "execution_count": 60,
     "metadata": {},
     "output_type": "execute_result"
    }
   ],
   "source": [
    "taunt_counter(table1)"
   ]
  },
  {
   "cell_type": "code",
   "execution_count": 57,
   "metadata": {},
   "outputs": [],
   "source": [
    "def live_counter(table1):\n",
    "    x = 0\n",
    "    for card in table1.table:\n",
    "        x += card.live\n",
    "    return x"
   ]
  },
  {
   "cell_type": "code",
   "execution_count": 58,
   "metadata": {},
   "outputs": [
    {
     "data": {
      "text/plain": [
       "3"
      ]
     },
     "execution_count": 58,
     "metadata": {},
     "output_type": "execute_result"
    }
   ],
   "source": [
    "live_counter(table1)"
   ]
  },
  {
   "cell_type": "code",
   "execution_count": null,
   "metadata": {},
   "outputs": [],
   "source": []
  }
 ],
 "metadata": {
  "kernelspec": {
   "display_name": "Python 3",
   "language": "python",
   "name": "python3"
  },
  "language_info": {
   "codemirror_mode": {
    "name": "ipython",
    "version": 3
   },
   "file_extension": ".py",
   "mimetype": "text/x-python",
   "name": "python",
   "nbconvert_exporter": "python",
   "pygments_lexer": "ipython3",
   "version": "3.7.6"
  }
 },
 "nbformat": 4,
 "nbformat_minor": 4
}
