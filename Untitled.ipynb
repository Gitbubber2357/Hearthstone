{
 "cells": [
  {
   "cell_type": "code",
   "execution_count": 1,
   "metadata": {},
   "outputs": [],
   "source": [
    "import numpy as np"
   ]
  },
  {
   "cell_type": "code",
   "execution_count": 2,
   "metadata": {},
   "outputs": [],
   "source": [
    "class Card:\n",
    "    def __init__(self, name, rank, attack, health):\n",
    "        self.name = name\n",
    "        self.rank = rank\n",
    "        self.attack = attack\n",
    "        self.health = health\n",
    "        \n",
    "        if self.health > 0:\n",
    "            self.is_live = True\n",
    "        else:\n",
    "            self.is_live = False\n",
    "        \n",
    "    def accept_damage(self, attack):\n",
    "        self.health -= attack\n",
    "        \n",
    "        if self.health > 0:\n",
    "            self.is_live = True\n",
    "        else:\n",
    "            self.is_live = False"
   ]
  },
  {
   "cell_type": "code",
   "execution_count": 3,
   "metadata": {},
   "outputs": [],
   "source": [
    "class BuffedCard(Card):\n",
    "    def __init__(self, name, rank, attack, health, poisonous = False, shield = False, windfury = False, taunt = False):\n",
    "        super().__init__(name, rank, attack, health)\n",
    "        self.is_poisonous = poisonous\n",
    "        self.is_shield = shield\n",
    "        self.is_windfury = windfury\n",
    "        self.is_taunt = taunt"
   ]
  },
  {
   "cell_type": "code",
   "execution_count": null,
   "metadata": {},
   "outputs": [],
   "source": []
  },
  {
   "cell_type": "code",
   "execution_count": 4,
   "metadata": {},
   "outputs": [],
   "source": [
    "def attack(card_A, card_B):\n",
    "    if card_A.is_shield == True:\n",
    "        card_A.is_shoeld = False\n",
    "    elif card_B.is_poisonous == True:\n",
    "        card_A.accept_damage(card_A.health) \n",
    "    else:\n",
    "        card_A.accept_damage(card_B.attack)\n",
    "\n",
    "    if card_B.is_shield == True:\n",
    "        card_B.is_shield = False\n",
    "    elif card_A.is_poisonous == True:\n",
    "        card_B.accept_damage(card_B.health)\n",
    "    else:\n",
    "        card_B.accept_damage(card_A.attack)"
   ]
  },
  {
   "cell_type": "code",
   "execution_count": 5,
   "metadata": {},
   "outputs": [],
   "source": [
    "class Table:\n",
    "    def __init__(self, name, *cards):\n",
    "        self.name = name\n",
    "        self.cards = cards\n",
    "    \n",
    "    def change(self, site_A, site_B):\n",
    "        self.cards[site_A], self.card[site_B] =  self.cards[site_B], self.card[site_A]\n",
    "        \n",
    "    def is_live_counter(self):\n",
    "        return sum(card.is_live for card in self.cards)\n",
    "    \n",
    "    def rank_counter(self):\n",
    "        return sum(card.rank for card in self.cards if card.is_live)\n",
    "        \n",
    "    def one_round(self, op_table):\n",
    "        attacker_index_self = attacker_index_op = -1\n",
    "        initial_live_self = int(self.is_live_counter())\n",
    "        initial_live_op = int(op_table.is_live_counter())\n",
    "        \n",
    "        while self.is_live_counter() != 0 and op_table.is_live_counter() != 0:\n",
    "            attacker_index_self += 1\n",
    "            attacker_index_self %= initial_live_self\n",
    "\n",
    "            while not self.cards[attacker_index_self].is_live:\n",
    "                attacker_index_self += 1\n",
    "                attacker_index_self %= initial_live_self\n",
    "\n",
    "            random_int = np.random.randint(0,initial_live_op)\n",
    "\n",
    "            while not op_table.cards[random_int].is_live:\n",
    "                random_int += 1\n",
    "                random_int %= initial_live_op\n",
    "            \n",
    "            attack(self.cards[attacker_index_self], op_table.cards[random_int])\n",
    "            print(\"%s in %s attack %s in %s\" %(self.cards[attacker_index_self].name, self.name,\n",
    "                                                    op_table.cards[random_int].name, op_table.name))\n",
    "\n",
    "            if self.is_live_counter() != 0 and op_table.is_live_counter() != 0:\n",
    "                attacker_index_op += 1\n",
    "                attacker_index_op %= initial_live_op\n",
    "\n",
    "                while not op_table.cards[attacker_index_op].is_live:\n",
    "                    attacker_index_op += 1\n",
    "                    attacker_index_op %= initial_live_op\n",
    "\n",
    "                random_int = np.random.randint(0,initial_live_self)\n",
    "                \n",
    "                while not self.cards[random_int].is_live:\n",
    "                    random_int += 1\n",
    "                    random_int %= initial_live_self\n",
    "\n",
    "                attack(op_table.cards[attacker_index_op], self.cards[random_int])\n",
    "                print(\"%s in %s attack %s in %s\" %(op_table.cards[attacker_index_op].name, op_table.name,\n",
    "                                                   self.cards[random_int].name, self.name))\n",
    "                        \n",
    "        if self.is_live_counter() != 0:\n",
    "            print(\"%s wins this round.\" %(self.name))\n",
    "            print(\"%s recives %d damage.\" %(op_table.name, self.rank_counter()))\n",
    "            \n",
    "        else:\n",
    "            print(\"%s wins this round.\" %(op_table.name))\n",
    "            print(\"%s recives %d damage.\" %(self.name, op_table.rank_counter()))"
   ]
  },
  {
   "cell_type": "code",
   "execution_count": 6,
   "metadata": {},
   "outputs": [],
   "source": [
    "card11 = BuffedCard(\"第一張卡inA\", 1, np.random.randint(1,6), np.random.randint(1,6), poisonous = True)\n",
    "card12 = BuffedCard(\"第二張卡inA\", 1, np.random.randint(1,6), np.random.randint(1,6), shield = True)\n",
    "card13 = BuffedCard(\"第三張卡inA\", 1, np.random.randint(1,6), np.random.randint(1,6), windfury = True)\n",
    "card14 = BuffedCard(\"第四張卡inA\", 1, np.random.randint(1,6), np.random.randint(1,6), taunt = True)\n",
    "card15 = BuffedCard(\"第五張卡inA\", 1, np.random.randint(1,6), np.random.randint(1,6))\n",
    "card21 = BuffedCard(\"第一張卡inB\", 1, np.random.randint(1,6), np.random.randint(1,6))\n",
    "card22 = BuffedCard(\"第二張卡inB\", 1, np.random.randint(1,6), np.random.randint(1,6), windfury = True)\n",
    "card23 = BuffedCard(\"第三張卡inB\", 1, np.random.randint(1,6), np.random.randint(1,6), taunt = True)\n",
    "card24 = BuffedCard(\"第四張卡inB\", 1, np.random.randint(1,6), np.random.randint(1,6), poisonous = True)\n",
    "card25 = BuffedCard(\"第五張卡inB\", 1, np.random.randint(1,6), np.random.randint(1,6), shield = True)"
   ]
  },
  {
   "cell_type": "code",
   "execution_count": 131,
   "metadata": {},
   "outputs": [],
   "source": [
    "table1 = Table(\"ASD\", card11, card12, card13, card14)\n",
    "table2 = Table(\"ZXC\", card21, card22, card23, card24, card25)"
   ]
  },
  {
   "cell_type": "code",
   "execution_count": 132,
   "metadata": {
    "scrolled": true
   },
   "outputs": [
    {
     "name": "stdout",
     "output_type": "stream",
     "text": [
      "一星卡1號 in ASD attack 二星卡3號 in ZXC\n",
      "二星卡1號 in ZXC attack 一星卡2號 in ASD\n",
      "一星卡2號 in ASD attack 二星卡2號 in ZXC\n",
      "二星卡3號 in ZXC attack 一星卡3號 in ASD\n",
      "ZXC wins this round.\n",
      "ASD recives 2 damage.\n"
     ]
    }
   ],
   "source": [
    "table1.one_round(table2)"
   ]
  },
  {
   "cell_type": "code",
   "execution_count": 133,
   "metadata": {},
   "outputs": [
    {
     "data": {
      "text/plain": [
       "(<__main__.BuffedCard at 0x6cd4950>,\n",
       " <__main__.BuffedCard at 0x6cd4910>,\n",
       " <__main__.BuffedCard at 0x6cd47b0>,\n",
       " <__main__.BuffedCard at 0xb3b6510>)"
      ]
     },
     "execution_count": 133,
     "metadata": {},
     "output_type": "execute_result"
    }
   ],
   "source": [
    "table1.cards"
   ]
  },
  {
   "cell_type": "code",
   "execution_count": null,
   "metadata": {},
   "outputs": [],
   "source": []
  },
  {
   "cell_type": "code",
   "execution_count": 9,
   "metadata": {},
   "outputs": [],
   "source": [
    "card11 = BuffedCard(\"一星卡1號\", 1, np.random.randint(1,6), np.random.randint(1,6), poisonous = True)\n",
    "card12 = BuffedCard(\"一星卡2號\", 1, np.random.randint(1,6), np.random.randint(1,6), shield = True)\n",
    "card13 = BuffedCard(\"一星卡3號\", 1, np.random.randint(1,6), np.random.randint(1,6), windfury = True)\n",
    "card21 = BuffedCard(\"二星卡1號\", 2, np.random.randint(3,8), np.random.randint(3,8), poisonous = True)\n",
    "card22 = BuffedCard(\"二星卡2號\", 2, np.random.randint(3,8), np.random.randint(3,8), windfury = True)\n",
    "card23 = BuffedCard(\"二星卡3號\", 2, np.random.randint(3,8), np.random.randint(3,8), shield = True)\n",
    "card31 = BuffedCard(\"三星卡1號\", 3, np.random.randint(6,11), np.random.randint(6,11), poisonous = True)\n",
    "card32 = BuffedCard(\"三星卡2號\", 3, np.random.randint(6,11), np.random.randint(6,11), shield = True)\n",
    "card33 = BuffedCard(\"三星卡3號\", 3, np.random.randint(6,11), np.random.randint(6,11), windfury = True)\n",
    "card41 = BuffedCard(\"四星卡1號\", 4, np.random.randint(10,15), np.random.randint(10,15), poisonous = True)\n",
    "card42 = BuffedCard(\"四星卡2號\", 4, np.random.randint(10,15), np.random.randint(10,15), shield = True)\n",
    "card43 = BuffedCard(\"四星卡3號\", 4, np.random.randint(10,15), np.random.randint(10,15), windfury = True)\n",
    "card51 = BuffedCard(\"五星卡1號\", 5, np.random.randint(13,20), np.random.randint(13,20), poisonous = True)\n",
    "card52 = BuffedCard(\"五星卡2號\", 5, np.random.randint(13,20), np.random.randint(13,20), shield = True)\n",
    "card53 = BuffedCard(\"五星卡3號\", 5, np.random.randint(13,20), np.random.randint(13,20), windfury = True)"
   ]
  },
  {
   "cell_type": "code",
   "execution_count": 10,
   "metadata": {},
   "outputs": [],
   "source": [
    "card_rank1 = [card11, card12, card13]\n",
    "card_rank2 = [card21, card22, card23]\n",
    "card_rank3 = [card31, card32, card33]\n",
    "card_rank4 = [card41, card42, card43]\n",
    "card_rank5 = [card51, card52, card53]\n",
    "\n",
    "card_rank = [card_rank1, card_rank2, card_rank3, card_rank4, card_rank5]"
   ]
  },
  {
   "cell_type": "code",
   "execution_count": 12,
   "metadata": {},
   "outputs": [],
   "source": [
    "def prob_mach(*prob_number):\n",
    "    prob_number = prob_number\n",
    "    prob = [prob_number[i][0] for i in range(len(prob_number))]\n",
    "    number = [prob_number[i][1] for i in range(len(prob_number))]\n",
    "    prob_list = []\n",
    "    for i in range(len(prob)):\n",
    "        prob_list += [number[i] for n in range(prob[i])]\n",
    "    \n",
    "    temp = np.random.randint(0,len(prob_list))\n",
    "    \n",
    "    return prob_list[temp]"
   ]
  },
  {
   "cell_type": "code",
   "execution_count": 13,
   "metadata": {
    "scrolled": true
   },
   "outputs": [
    {
     "data": {
      "text/plain": [
       "1"
      ]
     },
     "execution_count": 13,
     "metadata": {},
     "output_type": "execute_result"
    }
   ],
   "source": [
    "prob_mach([1,1])"
   ]
  },
  {
   "cell_type": "code",
   "execution_count": 167,
   "metadata": {},
   "outputs": [],
   "source": [
    "class Boss:\n",
    "    def __init__(self):\n",
    "        self.rank = 1\n",
    "        self.upgrade_coin = 5\n",
    "#         self.cards = cards\n",
    "    \n",
    "    def upgrade_coin_counter(self):\n",
    "        if self.rank == 2:\n",
    "            return 7\n",
    "        elif self.rank == 3:\n",
    "            return 8\n",
    "        elif self.rank == 4:\n",
    "            return 9\n",
    "        elif self.rank == 5:\n",
    "            return 10\n",
    "        else:\n",
    "            raise VauleError\n",
    "    \n",
    "    def rank_upgrade(self):\n",
    "        self.rank += 1\n",
    "        self.upgrade_coin = self.upgrade_coin_counter()\n",
    "    \n",
    "    def random_pick(self):\n",
    "        if self.rank == 1:\n",
    "            temp = prob_mach([1,self.rank])\n",
    "            return card_rank[temp-1][np.random.randint(0,2)]\n",
    "        elif self.rank == 2:\n",
    "            temp = prob_mach([1,1], [1,2])\n",
    "            return card_rank[temp-1][np.random.randint(0,2)]\n",
    "        elif self.rank == 3:\n",
    "            temp = prob_mach([1,1], [2,2], [2,3])\n",
    "            return card_rank[temp-1][np.random.randint(0,2)]\n",
    "        elif self.rank == 4:\n",
    "            temp = prob_mach([1,1], [2,2], [3,3], [3,4])\n",
    "            return card_rank[temp-1][np.random.randint(0,2)]\n",
    "        else:\n",
    "            temp = prob_mach([1,1], [2,2], [3,3], [4,4], [4,5])\n",
    "            return card_rank[temp-1][np.random.randint(0,2)]\n",
    "    \n",
    "    def show(self):\n",
    "        if self.rank == 1:\n",
    "            show_cards = [self.random_pick() for i in range (3)]\n",
    "        elif self.rank == 2:\n",
    "            show_cards = [self.random_pick() for i in range (3)]\n",
    "        elif self.rank == 3:\n",
    "            show_cards = [self.random_pick() for i in range (4)]\n",
    "        elif self.rank == 4:\n",
    "            show_cards = [self.random_pick() for i in range (4)]\n",
    "        else:\n",
    "            show_cards = [self.random_pick() for i in range (5)]\n",
    "        \n",
    "        return show_cards"
   ]
  },
  {
   "cell_type": "code",
   "execution_count": 168,
   "metadata": {},
   "outputs": [],
   "source": [
    "boss1 = Boss(rank = 1)"
   ]
  },
  {
   "cell_type": "code",
   "execution_count": 172,
   "metadata": {},
   "outputs": [
    {
     "data": {
      "text/plain": [
       "10"
      ]
     },
     "execution_count": 172,
     "metadata": {},
     "output_type": "execute_result"
    }
   ],
   "source": [
    "boss1.rank_upgrade()\n",
    "boss1.rank\n",
    "boss1.upgrade_coin"
   ]
  },
  {
   "cell_type": "code",
   "execution_count": 30,
   "metadata": {},
   "outputs": [],
   "source": [
    "class Hands:\n",
    "    def __init__(self, coin, blood):\n",
    "        self.coin = coin\n",
    "        self.card_in_hand = [None] *5\n",
    "        self.blood = blood\n",
    "    \n",
    "    def buy_card(self, card):\n",
    "        if self.coin >= 3 and None in self.card_in_hand:\n",
    "            site = 0\n",
    "            while self.card_in_hand[site] != None:\n",
    "                site += 1\n",
    "            self.card_in_hand[site] = card\n",
    "            \n",
    "            self.coin -= 3\n",
    "        elif self.coin < 3:\n",
    "            print(\"You don't have enough coins to buy a card.\")\n",
    "        \n",
    "        else:\n",
    "            print(\"Your hands are full.\")\n",
    "    \n",
    "    def sell_card(self, site):\n",
    "        if self.card_in_hand[site] != None:\n",
    "            self.card_in_hand[site] = None\n",
    "            \n",
    "            self.coin += 1\n",
    "        else:\n",
    "            print(\"You have no cards in site %d\" %(site))"
   ]
  },
  {
   "cell_type": "code",
   "execution_count": 50,
   "metadata": {},
   "outputs": [],
   "source": [
    "player1 = Hands(coin = 3, blood = 10)"
   ]
  },
  {
   "cell_type": "code",
   "execution_count": 117,
   "metadata": {},
   "outputs": [
    {
     "data": {
      "text/plain": [
       "True"
      ]
     },
     "execution_count": 117,
     "metadata": {},
     "output_type": "execute_result"
    }
   ],
   "source": [
    "None in player1.card_in_hand"
   ]
  },
  {
   "cell_type": "code",
   "execution_count": 51,
   "metadata": {
    "scrolled": false
   },
   "outputs": [
    {
     "data": {
      "text/plain": [
       "[None, None, None, None, None]"
      ]
     },
     "execution_count": 51,
     "metadata": {},
     "output_type": "execute_result"
    }
   ],
   "source": [
    "player1.card_in_hand"
   ]
  },
  {
   "cell_type": "code",
   "execution_count": 123,
   "metadata": {},
   "outputs": [
    {
     "data": {
      "text/plain": [
       "True"
      ]
     },
     "execution_count": 123,
     "metadata": {},
     "output_type": "execute_result"
    }
   ],
   "source": []
  },
  {
   "cell_type": "code",
   "execution_count": 52,
   "metadata": {},
   "outputs": [],
   "source": [
    "player1.buy_card(show[0])"
   ]
  },
  {
   "cell_type": "code",
   "execution_count": 55,
   "metadata": {
    "scrolled": true
   },
   "outputs": [
    {
     "data": {
      "text/plain": [
       "10"
      ]
     },
     "execution_count": 55,
     "metadata": {},
     "output_type": "execute_result"
    }
   ],
   "source": [
    "player1.blood"
   ]
  },
  {
   "cell_type": "code",
   "execution_count": 70,
   "metadata": {},
   "outputs": [],
   "source": [
    "def printer(TF):\n",
    "    if TF:\n",
    "        return \"O\"\n",
    "    else:\n",
    "        return \"X\""
   ]
  },
  {
   "cell_type": "code",
   "execution_count": 75,
   "metadata": {
    "scrolled": true
   },
   "outputs": [],
   "source": [
    "show = boss1.show()"
   ]
  },
  {
   "cell_type": "code",
   "execution_count": 116,
   "metadata": {},
   "outputs": [],
   "source": [
    "show[0]"
   ]
  },
  {
   "cell_type": "code",
   "execution_count": 151,
   "metadata": {},
   "outputs": [
    {
     "name": "stdout",
     "output_type": "stream",
     "text": [
      "boss cards:\n",
      "1. Sold out.\n",
      "2. rank = 1, attack = 5, health = -1, poisonous = X, shield = X\n",
      "3. rank = 1, attack = 1, health = -6, poisonous = O, shield = X\n"
     ]
    }
   ],
   "source": [
    "interface(\"boss\", show)"
   ]
  },
  {
   "cell_type": "code",
   "execution_count": 149,
   "metadata": {},
   "outputs": [],
   "source": [
    "def interface(who, cards):\n",
    "    \n",
    "    def printer(TF):\n",
    "        if TF:\n",
    "            return \"O\"\n",
    "        else:\n",
    "            return \"X\"\n",
    "    \n",
    "    if who == \"boss\":\n",
    "        print(\"boss cards:\")\n",
    "        for i, card in enumerate(cards):\n",
    "            if card == None:\n",
    "                print(\"%d. Sold out.\" %(i+1))\n",
    "            else:\n",
    "                print(\"%d. rank = %d, attack = %d, health = %d, poisonous = %s, shield = %s\"\n",
    "                      %(i+1, card.rank, card.attack, card.health, printer(card.is_poisonous), printer(card.is_shield)))\n",
    "    \n",
    "    elif who == \"table\" or who == \"hands\":\n",
    "        print(\"table cards\")\n",
    "        for i, card in enumerate(cards):\n",
    "            if card == None:\n",
    "                print(\"%d. No cards here.\" %(i+1))\n",
    "            else:\n",
    "                print(\"%d. rank = %d, attack = %d, health = %d, poisonous = %s, shield = %s\"\n",
    "                       %(i+1, card.rank, card.attack, card.health, printer(card.is_poisonous), printer(card.is_shield)))\n",
    "    else:\n",
    "        raise ValueError"
   ]
  },
  {
   "cell_type": "code",
   "execution_count": 99,
   "metadata": {},
   "outputs": [],
   "source": [
    "def require(parser, require_hint, exception_hint = None):\n",
    "    while True:\n",
    "        try:\n",
    "            input_str = input(require_hint)\n",
    "            if input_str == \"Quit\" or input_str == \"quit\" or input_str == \"Q\" or input_str == \"q\":\n",
    "                require = None\n",
    "            else:\n",
    "                require = parser(input_str)\n",
    "            break\n",
    "        \n",
    "        except:\n",
    "            if exception_hint is not None:\n",
    "                print(exception_hint)\n",
    "    \n",
    "    if require is None:\n",
    "        raise ValueError\n",
    "    return require"
   ]
  },
  {
   "cell_type": "code",
   "execution_count": null,
   "metadata": {},
   "outputs": [],
   "source": [
    "def Hearthstone():\n",
    "    player_one = Hands(coin = 3, blood = 10)\n",
    "    player_two = Hands(coin = 3, blodd = 10)\n",
    "    \n",
    "    boss_one = Boss()\n",
    "    boss_two = Boss()\n",
    "    \n",
    "    def parser_do_sth(input_str):\n",
    "        if input_str == \"B\" and player_one.coin >= 3:\n",
    "            return input_str\n",
    "        \n",
    "        elif input_str == \"U\" and player_one.coin >= boss_one.upgrade_coin:\n",
    "            return input_str\n",
    "        \n",
    "        elif input_str == \"R\" and player_one.coin >= 1:\n",
    "            return input_str\n",
    "        \n",
    "        elif input_str == \"C\":\n",
    "            return input_str\n",
    "        \n",
    "        else:\n",
    "            if input_str == \"B\":\n",
    "                print(\"You don't have enough coin to buy a card.\")\n",
    "            \n",
    "            elif input_str == \"U\":\n",
    "                print(\"You don't have enough coin to upgrade.\")\n",
    "            \n",
    "            elif input_str == \"R\":\n",
    "                print(\"You don't have enough coin to refresh cards.\")\n",
    "            \n",
    "            else:\n",
    "                print(\"Please input B, U, R, or C to do different things, thanks!\")\n",
    "                \n",
    "    \n",
    "    def parser_buy(input_str):\n",
    "        card_num = int(input_str) - 1\n",
    "        if None in player_one.card_in_hand and card_num < len(show) and show[card_num] != None:\n",
    "            player_one.coin -= 3\n",
    "            \n",
    "            temp = 0\n",
    "            while player_one.card_in_hand[temp] != None:\n",
    "                temp += 1\n",
    "            player_one.card_in_hand[temp] = show[card_num]\n",
    "            \n",
    "            show[card_num] = None\n",
    "            \n",
    "        \n",
    "        show[card_num] == None:\n",
    "            print(\"This card is sold out.\")\n",
    "    \n",
    "    while player_one.blood != 0 and player_two.blood != 0:\n",
    "        show = boss_one.show()\n",
    "        interface(\"boss\", show)\n",
    "        \n",
    "        while\n",
    "        do_sth = require(parser_do_sth, \"Buy cards(B) / Upgrade(U) / Refresh cards(R) / Complete(C)\")\n",
    "        \n",
    "        if do_sth == \"B\":\n",
    "            card_num = require(paeser_buy, \"Which card do you want to buy?\",\n",
    "                                           \"Please input a \")\n",
    "            \n",
    "        elif do_sth == \"U\":\n",
    "            \n",
    "\n",
    "        ======================================\n",
    "    \n",
    "        show = boss_two.show()\n",
    "        interface_boss(show)\n",
    "        \n",
    "        ======================================\n",
    "        \n",
    "        battle\n",
    "        \n",
    "        扣血"
   ]
  }
 ],
 "metadata": {
  "kernelspec": {
   "display_name": "Python 3",
   "language": "python",
   "name": "python3"
  },
  "language_info": {
   "codemirror_mode": {
    "name": "ipython",
    "version": 3
   },
   "file_extension": ".py",
   "mimetype": "text/x-python",
   "name": "python",
   "nbconvert_exporter": "python",
   "pygments_lexer": "ipython3",
   "version": "3.7.6"
  }
 },
 "nbformat": 4,
 "nbformat_minor": 4
}
